{
 "cells": [
  {
   "cell_type": "code",
   "execution_count": 1,
   "metadata": {},
   "outputs": [],
   "source": [
    "import pandas as pd\n",
    "import numpy as np\n",
    "import matplotlib.pyplot as plt\n",
    "\n",
    "%matplotlib inline"
   ]
  },
  {
   "cell_type": "markdown",
   "metadata": {},
   "source": [
    "## Load Company Metadata"
   ]
  },
  {
   "cell_type": "code",
   "execution_count": 2,
   "metadata": {},
   "outputs": [
    {
     "name": "stderr",
     "output_type": "stream",
     "text": [
      "/home/bl/Documents/Research/Tonya/env/lib/python3.6/site-packages/IPython/core/interactiveshell.py:3018: DtypeWarning: Columns (4,12,13,16,17) have mixed types. Specify dtype option on import or set low_memory=False.\n",
      "  interactivity=interactivity, compiler=compiler, result=result)\n"
     ]
    }
   ],
   "source": [
    "co_data = pd.read_csv('/mnt/ext_stor/Revere/company_common.csv')"
   ]
  },
  {
   "cell_type": "markdown",
   "metadata": {},
   "source": [
    "Get metadata for AMD"
   ]
  },
  {
   "cell_type": "code",
   "execution_count": 3,
   "metadata": {},
   "outputs": [
    {
     "data": {
      "text/plain": [
       "start_                   Wed Aug 29 20:00:00 EDT 2018\n",
       "end_                     Mon Oct 01 20:00:00 EDT 2018\n",
       "id                                                194\n",
       "name                       Advanced Micro Devices Inc\n",
       "name_native_lang                                  NaN\n",
       "active                                              Y\n",
       "covered                                             Y\n",
       "ticker                                         AMD-US\n",
       "investor_contact_name                   Michael Haase\n",
       "home_region                                        US\n",
       "cusip                                       007903107\n",
       "isin                                     US0079031078\n",
       "sedol                                         2007849\n",
       "valoren                                           NaN\n",
       "eu_code                                           NaN\n",
       "xs_code                                           NaN\n",
       "profile_end_date         Sat Sep 29 20:00:00 EDT 2018\n",
       "ticker_exchange                               AMD-NAS\n",
       "Name: 2036460, dtype: object"
      ]
     },
     "execution_count": 3,
     "metadata": {},
     "output_type": "execute_result"
    }
   ],
   "source": [
    "co_data.loc[co_data.ticker == 'AMD-US'].iloc[0]"
   ]
  },
  {
   "cell_type": "code",
   "execution_count": 4,
   "metadata": {},
   "outputs": [],
   "source": [
    "del co_data"
   ]
  },
  {
   "cell_type": "markdown",
   "metadata": {},
   "source": [
    "## Load Relationship Data"
   ]
  },
  {
   "cell_type": "code",
   "execution_count": 5,
   "metadata": {},
   "outputs": [],
   "source": [
    "all_rels = pd.read_csv('/mnt/ext_stor/Revere/rels_start_end.csv')\n",
    "all_rels['start_'] = pd.to_datetime(all_rels['start_'])\n",
    "all_rels['end_'] = pd.to_datetime(all_rels['end_'])"
   ]
  },
  {
   "cell_type": "code",
   "execution_count": 6,
   "metadata": {},
   "outputs": [
    {
     "data": {
      "text/html": [
       "<div>\n",
       "<style scoped>\n",
       "    .dataframe tbody tr th:only-of-type {\n",
       "        vertical-align: middle;\n",
       "    }\n",
       "\n",
       "    .dataframe tbody tr th {\n",
       "        vertical-align: top;\n",
       "    }\n",
       "\n",
       "    .dataframe thead th {\n",
       "        text-align: right;\n",
       "    }\n",
       "</style>\n",
       "<table border=\"1\" class=\"dataframe\">\n",
       "  <thead>\n",
       "    <tr style=\"text-align: right;\">\n",
       "      <th></th>\n",
       "      <th>Unnamed: 0</th>\n",
       "      <th>start_</th>\n",
       "      <th>end_</th>\n",
       "      <th>supplier_id</th>\n",
       "      <th>customer_id</th>\n",
       "    </tr>\n",
       "  </thead>\n",
       "  <tbody>\n",
       "    <tr>\n",
       "      <th>0</th>\n",
       "      <td>0</td>\n",
       "      <td>2003-04-03</td>\n",
       "      <td>2004-01-25</td>\n",
       "      <td>9840</td>\n",
       "      <td>12692</td>\n",
       "    </tr>\n",
       "    <tr>\n",
       "      <th>1</th>\n",
       "      <td>1</td>\n",
       "      <td>2003-04-03</td>\n",
       "      <td>2006-07-19</td>\n",
       "      <td>1090</td>\n",
       "      <td>4969</td>\n",
       "    </tr>\n",
       "    <tr>\n",
       "      <th>2</th>\n",
       "      <td>2</td>\n",
       "      <td>2003-04-03</td>\n",
       "      <td>2003-04-13</td>\n",
       "      <td>1399442</td>\n",
       "      <td>2939</td>\n",
       "    </tr>\n",
       "    <tr>\n",
       "      <th>3</th>\n",
       "      <td>3</td>\n",
       "      <td>2003-04-03</td>\n",
       "      <td>2004-01-11</td>\n",
       "      <td>8853</td>\n",
       "      <td>7384</td>\n",
       "    </tr>\n",
       "    <tr>\n",
       "      <th>4</th>\n",
       "      <td>4</td>\n",
       "      <td>2003-04-03</td>\n",
       "      <td>2005-05-04</td>\n",
       "      <td>180</td>\n",
       "      <td>5997</td>\n",
       "    </tr>\n",
       "  </tbody>\n",
       "</table>\n",
       "</div>"
      ],
      "text/plain": [
       "   Unnamed: 0     start_       end_  supplier_id  customer_id\n",
       "0           0 2003-04-03 2004-01-25         9840        12692\n",
       "1           1 2003-04-03 2006-07-19         1090         4969\n",
       "2           2 2003-04-03 2003-04-13      1399442         2939\n",
       "3           3 2003-04-03 2004-01-11         8853         7384\n",
       "4           4 2003-04-03 2005-05-04          180         5997"
      ]
     },
     "execution_count": 6,
     "metadata": {},
     "output_type": "execute_result"
    }
   ],
   "source": [
    "all_rels.head()"
   ]
  },
  {
   "cell_type": "code",
   "execution_count": 7,
   "metadata": {},
   "outputs": [],
   "source": [
    "amd_rels = all_rels.loc[all_rels.customer_id == 194]\n",
    "#amd_rels.rename({'supplier_id':'supplier_1_id'}, axis=1, inplace=True)"
   ]
  },
  {
   "cell_type": "code",
   "execution_count": 8,
   "metadata": {},
   "outputs": [
    {
     "data": {
      "text/html": [
       "<div>\n",
       "<style scoped>\n",
       "    .dataframe tbody tr th:only-of-type {\n",
       "        vertical-align: middle;\n",
       "    }\n",
       "\n",
       "    .dataframe tbody tr th {\n",
       "        vertical-align: top;\n",
       "    }\n",
       "\n",
       "    .dataframe thead th {\n",
       "        text-align: right;\n",
       "    }\n",
       "</style>\n",
       "<table border=\"1\" class=\"dataframe\">\n",
       "  <thead>\n",
       "    <tr style=\"text-align: right;\">\n",
       "      <th></th>\n",
       "      <th>Unnamed: 0</th>\n",
       "      <th>start_</th>\n",
       "      <th>end_</th>\n",
       "      <th>supplier_id</th>\n",
       "      <th>customer_id</th>\n",
       "    </tr>\n",
       "  </thead>\n",
       "  <tbody>\n",
       "    <tr>\n",
       "      <th>1073</th>\n",
       "      <td>1073</td>\n",
       "      <td>2003-04-03</td>\n",
       "      <td>2003-11-02</td>\n",
       "      <td>10377</td>\n",
       "      <td>194</td>\n",
       "    </tr>\n",
       "    <tr>\n",
       "      <th>1124</th>\n",
       "      <td>1124</td>\n",
       "      <td>2003-04-03</td>\n",
       "      <td>2004-02-15</td>\n",
       "      <td>9170</td>\n",
       "      <td>194</td>\n",
       "    </tr>\n",
       "    <tr>\n",
       "      <th>1640</th>\n",
       "      <td>1640</td>\n",
       "      <td>2003-04-03</td>\n",
       "      <td>2004-05-19</td>\n",
       "      <td>2937</td>\n",
       "      <td>194</td>\n",
       "    </tr>\n",
       "    <tr>\n",
       "      <th>3100</th>\n",
       "      <td>3100</td>\n",
       "      <td>2003-04-03</td>\n",
       "      <td>2003-07-27</td>\n",
       "      <td>8669</td>\n",
       "      <td>194</td>\n",
       "    </tr>\n",
       "    <tr>\n",
       "      <th>4273</th>\n",
       "      <td>4273</td>\n",
       "      <td>2003-04-03</td>\n",
       "      <td>2009-02-21</td>\n",
       "      <td>5178</td>\n",
       "      <td>194</td>\n",
       "    </tr>\n",
       "  </tbody>\n",
       "</table>\n",
       "</div>"
      ],
      "text/plain": [
       "      Unnamed: 0     start_       end_  supplier_id  customer_id\n",
       "1073        1073 2003-04-03 2003-11-02        10377          194\n",
       "1124        1124 2003-04-03 2004-02-15         9170          194\n",
       "1640        1640 2003-04-03 2004-05-19         2937          194\n",
       "3100        3100 2003-04-03 2003-07-27         8669          194\n",
       "4273        4273 2003-04-03 2009-02-21         5178          194"
      ]
     },
     "execution_count": 8,
     "metadata": {},
     "output_type": "execute_result"
    }
   ],
   "source": [
    "amd_rels.head()"
   ]
  },
  {
   "cell_type": "code",
   "execution_count": 9,
   "metadata": {},
   "outputs": [
    {
     "name": "stdout",
     "output_type": "stream",
     "text": [
      "Tier 1 has 167 unique suppliers.\n",
      "Tier 2 has 3935 unique suppliers.\n",
      "Tier 3 has 20186 unique suppliers.\n",
      "Tier 4 has 45366 unique suppliers.\n",
      "Tier 5 has 57809 unique suppliers.\n",
      "Tier 6 has 60513 unique suppliers.\n",
      "Tier 7 has 61121 unique suppliers.\n",
      "Tier 8 has 61195 unique suppliers.\n",
      "Tier 9 has 61223 unique suppliers.\n",
      "Tier 10 has 61225 unique suppliers.\n"
     ]
    }
   ],
   "source": [
    "n_tiers = 10\n",
    "\n",
    "tier_one = amd_rels.copy()\n",
    "tier_one['tier'] = 1\n",
    "print('Tier {} has {} unique suppliers.'.format(1, len(tier_one.supplier_id.unique()) ))\n",
    "\n",
    "tiers = [tier_one]\n",
    "n_suppliers = [len(tier_one.supplier_id.unique())]\n",
    "\n",
    "for i_tier in range(1,n_tiers):\n",
    "    last_tier = tiers[-1].drop_duplicates(subset=['supplier_id'])[['supplier_id']]\n",
    "    tier = pd.merge(last_tier, all_rels, left_on='supplier_id', right_on='customer_id', how='left')\n",
    "    tier.drop(['supplier_id_x'], axis=1, inplace=True)\n",
    "    tier.rename({'supplier_id_y':'supplier_id'}, axis=1, inplace=True)\n",
    "    tier['tier'] = i_tier + 1\n",
    "    tiers.append(tier)\n",
    "    n_suppliers.append(len(tier.supplier_id.unique()))\n",
    "    print('Tier {} has {} unique suppliers.'.format(i_tier+1, n_suppliers[-1]))"
   ]
  },
  {
   "cell_type": "code",
   "execution_count": 10,
   "metadata": {},
   "outputs": [
    {
     "data": {
      "text/plain": [
       "[<matplotlib.lines.Line2D at 0x7fac23ffb128>]"
      ]
     },
     "execution_count": 10,
     "metadata": {},
     "output_type": "execute_result"
    },
    {
     "data": {
      "image/png": "[encoded data removed]",
      "text/plain": [
       "<Figure size 432x288 with 1 Axes>"
      ]
     },
     "metadata": {
      "needs_background": "light"
     },
     "output_type": "display_data"
    }
   ],
   "source": [
    "plt.plot(n_suppliers)"
   ]
  },
  {
   "cell_type": "code",
   "execution_count": 11,
   "metadata": {},
   "outputs": [],
   "source": [
    "all_amd_suppliers = pd.concat(tiers)"
   ]
  },
  {
   "cell_type": "code",
   "execution_count": 12,
   "metadata": {},
   "outputs": [
    {
     "data": {
      "text/plain": [
       "(6836601, 6)"
      ]
     },
     "execution_count": 12,
     "metadata": {},
     "output_type": "execute_result"
    }
   ],
   "source": [
    "all_amd_suppliers.shape"
   ]
  },
  {
   "cell_type": "code",
   "execution_count": 13,
   "metadata": {},
   "outputs": [],
   "source": [
    "point_in_time = '2017-01-01'\n",
    "\n",
    "pit_sel = (all_amd_suppliers.start_ < point_in_time) & (all_amd_suppliers.end_ >= point_in_time)\n",
    "\n",
    "pit_amd_sc = all_amd_suppliers.loc[pit_sel][['supplier_id', 'customer_id', 'tier']].drop_duplicates()"
   ]
  },
  {
   "cell_type": "code",
   "execution_count": 14,
   "metadata": {},
   "outputs": [],
   "source": [
    "sup_by_tier = pit_amd_sc[['tier', 'supplier_id']].drop_duplicates().groupby(['tier']).count()"
   ]
  },
  {
   "cell_type": "code",
   "execution_count": 15,
   "metadata": {},
   "outputs": [
    {
     "data": {
      "text/plain": [
       "<matplotlib.axes._subplots.AxesSubplot at 0x7fac279fa278>"
      ]
     },
     "execution_count": 15,
     "metadata": {},
     "output_type": "execute_result"
    },
    {
     "data": {
      "image/png": "[encoded data removed]",
      "text/plain": [
       "<Figure size 432x288 with 1 Axes>"
      ]
     },
     "metadata": {
      "needs_background": "light"
     },
     "output_type": "display_data"
    }
   ],
   "source": [
    "sup_by_tier.plot()"
   ]
  },
  {
   "cell_type": "markdown",
   "metadata": {},
   "source": [
    "## Market Values"
   ]
  },
  {
   "cell_type": "code",
   "execution_count": 18,
   "metadata": {},
   "outputs": [],
   "source": [
    "crsp_data = pd.read_csv('/mnt/ext_stor/crsp/m_stock/msf.csv')\n",
    "crsp_data['DATE'] = pd.to_datetime(crsp_data['DATE'])"
   ]
  },
  {
   "cell_type": "code",
   "execution_count": 20,
   "metadata": {},
   "outputs": [],
   "source": [
    "crsp_data.to_csv('/mnt/ext_stor/crsp/m_stock/msf.csv')"
   ]
  },
  {
   "cell_type": "code",
   "execution_count": 19,
   "metadata": {},
   "outputs": [
    {
     "data": {
      "text/html": [
       "<div>\n",
       "<style scoped>\n",
       "    .dataframe tbody tr th:only-of-type {\n",
       "        vertical-align: middle;\n",
       "    }\n",
       "\n",
       "    .dataframe tbody tr th {\n",
       "        vertical-align: top;\n",
       "    }\n",
       "\n",
       "    .dataframe thead th {\n",
       "        text-align: right;\n",
       "    }\n",
       "</style>\n",
       "<table border=\"1\" class=\"dataframe\">\n",
       "  <thead>\n",
       "    <tr style=\"text-align: right;\">\n",
       "      <th></th>\n",
       "      <th>CUSIP</th>\n",
       "      <th>PERMNO</th>\n",
       "      <th>PERMCO</th>\n",
       "      <th>ISSUNO</th>\n",
       "      <th>HEXCD</th>\n",
       "      <th>HSICCD</th>\n",
       "      <th>DATE</th>\n",
       "      <th>BIDLO</th>\n",
       "      <th>ASKHI</th>\n",
       "      <th>PRC</th>\n",
       "      <th>...</th>\n",
       "      <th>RET</th>\n",
       "      <th>BID</th>\n",
       "      <th>ASK</th>\n",
       "      <th>SHROUT</th>\n",
       "      <th>CFACPR</th>\n",
       "      <th>CFACSHR</th>\n",
       "      <th>ALTPRC</th>\n",
       "      <th>SPREAD</th>\n",
       "      <th>ALTPRCDT</th>\n",
       "      <th>RETX</th>\n",
       "    </tr>\n",
       "  </thead>\n",
       "  <tbody>\n",
       "    <tr>\n",
       "      <th>0</th>\n",
       "      <td>68391610</td>\n",
       "      <td>10000</td>\n",
       "      <td>7952</td>\n",
       "      <td>10396</td>\n",
       "      <td>3</td>\n",
       "      <td>3990.0</td>\n",
       "      <td>1985-12-31</td>\n",
       "      <td>NaN</td>\n",
       "      <td>NaN</td>\n",
       "      <td>NaN</td>\n",
       "      <td>...</td>\n",
       "      <td>NaN</td>\n",
       "      <td>NaN</td>\n",
       "      <td>NaN</td>\n",
       "      <td>NaN</td>\n",
       "      <td>NaN</td>\n",
       "      <td>NaN</td>\n",
       "      <td>-2.5625</td>\n",
       "      <td>NaN</td>\n",
       "      <td>Mon Jan 06 19:00:00 EST 1986</td>\n",
       "      <td>NaN</td>\n",
       "    </tr>\n",
       "    <tr>\n",
       "      <th>1</th>\n",
       "      <td>68391610</td>\n",
       "      <td>10000</td>\n",
       "      <td>7952</td>\n",
       "      <td>10396</td>\n",
       "      <td>3</td>\n",
       "      <td>3990.0</td>\n",
       "      <td>1986-01-31</td>\n",
       "      <td>-2.50</td>\n",
       "      <td>-4.4375</td>\n",
       "      <td>-4.3750</td>\n",
       "      <td>...</td>\n",
       "      <td>NaN</td>\n",
       "      <td>NaN</td>\n",
       "      <td>NaN</td>\n",
       "      <td>3680.0</td>\n",
       "      <td>1.0</td>\n",
       "      <td>1.0</td>\n",
       "      <td>-4.3750</td>\n",
       "      <td>0.250</td>\n",
       "      <td>Thu Jan 30 19:00:00 EST 1986</td>\n",
       "      <td>NaN</td>\n",
       "    </tr>\n",
       "    <tr>\n",
       "      <th>2</th>\n",
       "      <td>68391610</td>\n",
       "      <td>10000</td>\n",
       "      <td>7952</td>\n",
       "      <td>10396</td>\n",
       "      <td>3</td>\n",
       "      <td>3990.0</td>\n",
       "      <td>1986-02-28</td>\n",
       "      <td>-3.25</td>\n",
       "      <td>-4.3750</td>\n",
       "      <td>-3.2500</td>\n",
       "      <td>...</td>\n",
       "      <td>-0.257143</td>\n",
       "      <td>NaN</td>\n",
       "      <td>NaN</td>\n",
       "      <td>3680.0</td>\n",
       "      <td>1.0</td>\n",
       "      <td>1.0</td>\n",
       "      <td>-3.2500</td>\n",
       "      <td>0.250</td>\n",
       "      <td>Thu Feb 27 19:00:00 EST 1986</td>\n",
       "      <td>-0.257143</td>\n",
       "    </tr>\n",
       "    <tr>\n",
       "      <th>3</th>\n",
       "      <td>68391610</td>\n",
       "      <td>10000</td>\n",
       "      <td>7952</td>\n",
       "      <td>10396</td>\n",
       "      <td>3</td>\n",
       "      <td>3990.0</td>\n",
       "      <td>1986-03-31</td>\n",
       "      <td>-3.25</td>\n",
       "      <td>-4.4375</td>\n",
       "      <td>-4.4375</td>\n",
       "      <td>...</td>\n",
       "      <td>0.365385</td>\n",
       "      <td>NaN</td>\n",
       "      <td>NaN</td>\n",
       "      <td>3680.0</td>\n",
       "      <td>1.0</td>\n",
       "      <td>1.0</td>\n",
       "      <td>-4.4375</td>\n",
       "      <td>0.125</td>\n",
       "      <td>Sun Mar 30 19:00:00 EST 1986</td>\n",
       "      <td>0.365385</td>\n",
       "    </tr>\n",
       "    <tr>\n",
       "      <th>4</th>\n",
       "      <td>68391610</td>\n",
       "      <td>10000</td>\n",
       "      <td>7952</td>\n",
       "      <td>10396</td>\n",
       "      <td>3</td>\n",
       "      <td>3990.0</td>\n",
       "      <td>1986-04-30</td>\n",
       "      <td>-4.00</td>\n",
       "      <td>-4.3125</td>\n",
       "      <td>-4.0000</td>\n",
       "      <td>...</td>\n",
       "      <td>-0.098592</td>\n",
       "      <td>NaN</td>\n",
       "      <td>NaN</td>\n",
       "      <td>3793.0</td>\n",
       "      <td>1.0</td>\n",
       "      <td>1.0</td>\n",
       "      <td>-4.0000</td>\n",
       "      <td>0.250</td>\n",
       "      <td>Tue Apr 29 20:00:00 EDT 1986</td>\n",
       "      <td>-0.098592</td>\n",
       "    </tr>\n",
       "  </tbody>\n",
       "</table>\n",
       "<p>5 rows × 21 columns</p>\n",
       "</div>"
      ],
      "text/plain": [
       "      CUSIP  PERMNO  PERMCO  ISSUNO  HEXCD  HSICCD       DATE  BIDLO   ASKHI  \\\n",
       "0  68391610   10000    7952   10396      3  3990.0 1985-12-31    NaN     NaN   \n",
       "1  68391610   10000    7952   10396      3  3990.0 1986-01-31  -2.50 -4.4375   \n",
       "2  68391610   10000    7952   10396      3  3990.0 1986-02-28  -3.25 -4.3750   \n",
       "3  68391610   10000    7952   10396      3  3990.0 1986-03-31  -3.25 -4.4375   \n",
       "4  68391610   10000    7952   10396      3  3990.0 1986-04-30  -4.00 -4.3125   \n",
       "\n",
       "      PRC    ...          RET  BID  ASK  SHROUT  CFACPR  CFACSHR  ALTPRC  \\\n",
       "0     NaN    ...          NaN  NaN  NaN     NaN     NaN      NaN -2.5625   \n",
       "1 -4.3750    ...          NaN  NaN  NaN  3680.0     1.0      1.0 -4.3750   \n",
       "2 -3.2500    ...    -0.257143  NaN  NaN  3680.0     1.0      1.0 -3.2500   \n",
       "3 -4.4375    ...     0.365385  NaN  NaN  3680.0     1.0      1.0 -4.4375   \n",
       "4 -4.0000    ...    -0.098592  NaN  NaN  3793.0     1.0      1.0 -4.0000   \n",
       "\n",
       "   SPREAD                      ALTPRCDT      RETX  \n",
       "0     NaN  Mon Jan 06 19:00:00 EST 1986       NaN  \n",
       "1   0.250  Thu Jan 30 19:00:00 EST 1986       NaN  \n",
       "2   0.250  Thu Feb 27 19:00:00 EST 1986 -0.257143  \n",
       "3   0.125  Sun Mar 30 19:00:00 EST 1986  0.365385  \n",
       "4   0.250  Tue Apr 29 20:00:00 EDT 1986 -0.098592  \n",
       "\n",
       "[5 rows x 21 columns]"
      ]
     },
     "execution_count": 19,
     "metadata": {},
     "output_type": "execute_result"
    }
   ],
   "source": [
    "crsp_data.head()"
   ]
  },
  {
   "cell_type": "code",
   "execution_count": 21,
   "metadata": {},
   "outputs": [
    {
     "name": "stderr",
     "output_type": "stream",
     "text": [
      "/home/bl/Documents/Research/Tonya/env/lib/python3.6/site-packages/ipykernel_launcher.py:1: SettingWithCopyWarning: \n",
      "A value is trying to be set on a copy of a slice from a DataFrame\n",
      "\n",
      "See the caveats in the documentation: http://pandas.pydata.org/pandas-docs/stable/indexing.html#indexing-view-versus-copy\n",
      "  \"\"\"Entry point for launching an IPython kernel.\n"
     ]
    }
   ],
   "source": [
    "crsp_data['PRC'][crsp_data['PRC'] <= 0] = np.nan"
   ]
  },
  {
   "cell_type": "code",
   "execution_count": 22,
   "metadata": {},
   "outputs": [
    {
     "data": {
      "text/plain": [
       "Index(['CUSIP', 'PERMNO', 'PERMCO', 'ISSUNO', 'HEXCD', 'HSICCD', 'DATE',\n",
       "       'BIDLO', 'ASKHI', 'PRC', 'VOL', 'RET', 'BID', 'ASK', 'SHROUT', 'CFACPR',\n",
       "       'CFACSHR', 'ALTPRC', 'SPREAD', 'ALTPRCDT', 'RETX'],\n",
       "      dtype='object')"
      ]
     },
     "execution_count": 22,
     "metadata": {},
     "output_type": "execute_result"
    }
   ],
   "source": [
    "crsp_data.columns"
   ]
  },
  {
   "cell_type": "code",
   "execution_count": 23,
   "metadata": {},
   "outputs": [
    {
     "data": {
      "text/plain": [
       "<matplotlib.axes._subplots.AxesSubplot at 0x7fac248412e8>"
      ]
     },
     "execution_count": 23,
     "metadata": {},
     "output_type": "execute_result"
    },
    {
     "data": {
      "image/png": "[encoded data removed]",
      "text/plain": [
       "<Figure size 432x288 with 1 Axes>"
      ]
     },
     "metadata": {
      "needs_background": "light"
     },
     "output_type": "display_data"
    }
   ],
   "source": [
    "crsp_data.loc[crsp_data.CUSIP == '00790310'].PRC.plot()"
   ]
  },
  {
   "cell_type": "code",
   "execution_count": null,
   "metadata": {},
   "outputs": [],
   "source": []
  },
  {
   "cell_type": "code",
   "execution_count": null,
   "metadata": {},
   "outputs": [],
   "source": []
  },
  {
   "cell_type": "code",
   "execution_count": null,
   "metadata": {},
   "outputs": [],
   "source": []
  },
  {
   "cell_type": "code",
   "execution_count": null,
   "metadata": {},
   "outputs": [],
   "source": []
  },
  {
   "cell_type": "code",
   "execution_count": null,
   "metadata": {},
   "outputs": [],
   "source": []
  },
  {
   "cell_type": "code",
   "execution_count": null,
   "metadata": {},
   "outputs": [],
   "source": []
  },
  {
   "cell_type": "markdown",
   "metadata": {},
   "source": [
    "## Institutional Ownership"
   ]
  },
  {
   "cell_type": "code",
   "execution_count": 2,
   "metadata": {},
   "outputs": [
    {
     "name": "stderr",
     "output_type": "stream",
     "text": [
      "/home/bl/Documents/Research/Tonya/env/lib/python3.6/site-packages/IPython/core/interactiveshell.py:3018: DtypeWarning: Columns (1) have mixed types. Specify dtype option on import or set low_memory=False.\n",
      "  interactivity=interactivity, compiler=compiler, result=result)\n"
     ]
    }
   ],
   "source": [
    "s34type3 = pd.read_csv('/mnt/ext_stor/tfn/s34/s34type3.csv')"
   ]
  },
  {
   "cell_type": "code",
   "execution_count": null,
   "metadata": {},
   "outputs": [],
   "source": [
    "s34type3['fdate'] = pd.to_datetime(s34type3.fdate)"
   ]
  },
  {
   "cell_type": "code",
   "execution_count": null,
   "metadata": {},
   "outputs": [],
   "source": [
    "s34type3.to_csv('/mnt/ext_stor/tfn/s34/s34type3.csv')"
   ]
  },
  {
   "cell_type": "code",
   "execution_count": 26,
   "metadata": {},
   "outputs": [
    {
     "data": {
      "text/plain": [
       "Index(['fdate', 'cusip', 'mgrno', 'type', 'shares', 'sole', 'shared', 'no'], dtype='object')"
      ]
     },
     "execution_count": 26,
     "metadata": {},
     "output_type": "execute_result"
    }
   ],
   "source": [
    "s34type3.columns"
   ]
  },
  {
   "cell_type": "code",
   "execution_count": 6,
   "metadata": {},
   "outputs": [
    {
     "data": {
      "text/plain": [
       "(73558126, 8)"
      ]
     },
     "execution_count": 6,
     "metadata": {},
     "output_type": "execute_result"
    }
   ],
   "source": [
    "s34type3.shape"
   ]
  },
  {
   "cell_type": "code",
   "execution_count": 25,
   "metadata": {},
   "outputs": [
    {
     "data": {
      "text/plain": [
       "True"
      ]
     },
     "execution_count": 25,
     "metadata": {},
     "output_type": "execute_result"
    }
   ],
   "source": [
    "s34type3.loc[0, 'cusip'] == 80010"
   ]
  },
  {
   "cell_type": "code",
   "execution_count": 3,
   "metadata": {},
   "outputs": [],
   "source": [
    "amd_ownership = s34type3.loc[s34type3.cusip == '00790310']"
   ]
  },
  {
   "cell_type": "code",
   "execution_count": 4,
   "metadata": {},
   "outputs": [
    {
     "data": {
      "text/plain": [
       "(28168, 8)"
      ]
     },
     "execution_count": 4,
     "metadata": {},
     "output_type": "execute_result"
    }
   ],
   "source": [
    "amd_ownership.shape"
   ]
  },
  {
   "cell_type": "code",
   "execution_count": 5,
   "metadata": {},
   "outputs": [
    {
     "data": {
      "text/html": [
       "<div>\n",
       "<style scoped>\n",
       "    .dataframe tbody tr th:only-of-type {\n",
       "        vertical-align: middle;\n",
       "    }\n",
       "\n",
       "    .dataframe tbody tr th {\n",
       "        vertical-align: top;\n",
       "    }\n",
       "\n",
       "    .dataframe thead th {\n",
       "        text-align: right;\n",
       "    }\n",
       "</style>\n",
       "<table border=\"1\" class=\"dataframe\">\n",
       "  <thead>\n",
       "    <tr style=\"text-align: right;\">\n",
       "      <th></th>\n",
       "      <th>fdate</th>\n",
       "      <th>cusip</th>\n",
       "      <th>mgrno</th>\n",
       "      <th>type</th>\n",
       "      <th>shares</th>\n",
       "      <th>sole</th>\n",
       "      <th>shared</th>\n",
       "      <th>no</th>\n",
       "    </tr>\n",
       "  </thead>\n",
       "  <tbody>\n",
       "    <tr>\n",
       "      <th>4653115</th>\n",
       "      <td>Wed Mar 30 19:00:00 EST 1988</td>\n",
       "      <td>00790310</td>\n",
       "      <td>67480</td>\n",
       "      <td>1</td>\n",
       "      <td>500</td>\n",
       "      <td>NaN</td>\n",
       "      <td>NaN</td>\n",
       "      <td>NaN</td>\n",
       "    </tr>\n",
       "    <tr>\n",
       "      <th>4654581</th>\n",
       "      <td>Wed Mar 30 19:00:00 EST 1988</td>\n",
       "      <td>00790310</td>\n",
       "      <td>67740</td>\n",
       "      <td>5</td>\n",
       "      <td>4700</td>\n",
       "      <td>NaN</td>\n",
       "      <td>NaN</td>\n",
       "      <td>NaN</td>\n",
       "    </tr>\n",
       "    <tr>\n",
       "      <th>4655198</th>\n",
       "      <td>Wed Mar 30 19:00:00 EST 1988</td>\n",
       "      <td>00790310</td>\n",
       "      <td>67760</td>\n",
       "      <td>4</td>\n",
       "      <td>100000</td>\n",
       "      <td>NaN</td>\n",
       "      <td>NaN</td>\n",
       "      <td>NaN</td>\n",
       "    </tr>\n",
       "    <tr>\n",
       "      <th>4656045</th>\n",
       "      <td>Wed Mar 30 19:00:00 EST 1988</td>\n",
       "      <td>00790310</td>\n",
       "      <td>69100</td>\n",
       "      <td>1</td>\n",
       "      <td>35000</td>\n",
       "      <td>NaN</td>\n",
       "      <td>NaN</td>\n",
       "      <td>NaN</td>\n",
       "    </tr>\n",
       "    <tr>\n",
       "      <th>4657217</th>\n",
       "      <td>Wed Mar 30 19:00:00 EST 1988</td>\n",
       "      <td>00790310</td>\n",
       "      <td>70430</td>\n",
       "      <td>4</td>\n",
       "      <td>644200</td>\n",
       "      <td>NaN</td>\n",
       "      <td>NaN</td>\n",
       "      <td>NaN</td>\n",
       "    </tr>\n",
       "  </tbody>\n",
       "</table>\n",
       "</div>"
      ],
      "text/plain": [
       "                                fdate     cusip  mgrno  type  shares  sole  \\\n",
       "4653115  Wed Mar 30 19:00:00 EST 1988  00790310  67480     1     500   NaN   \n",
       "4654581  Wed Mar 30 19:00:00 EST 1988  00790310  67740     5    4700   NaN   \n",
       "4655198  Wed Mar 30 19:00:00 EST 1988  00790310  67760     4  100000   NaN   \n",
       "4656045  Wed Mar 30 19:00:00 EST 1988  00790310  69100     1   35000   NaN   \n",
       "4657217  Wed Mar 30 19:00:00 EST 1988  00790310  70430     4  644200   NaN   \n",
       "\n",
       "         shared  no  \n",
       "4653115     NaN NaN  \n",
       "4654581     NaN NaN  \n",
       "4655198     NaN NaN  \n",
       "4656045     NaN NaN  \n",
       "4657217     NaN NaN  "
      ]
     },
     "execution_count": 5,
     "metadata": {},
     "output_type": "execute_result"
    }
   ],
   "source": [
    "amd_ownership.head()"
   ]
  },
  {
   "cell_type": "code",
   "execution_count": 34,
   "metadata": {},
   "outputs": [
    {
     "data": {
      "text/html": [
       "<div>\n",
       "<style scoped>\n",
       "    .dataframe tbody tr th:only-of-type {\n",
       "        vertical-align: middle;\n",
       "    }\n",
       "\n",
       "    .dataframe tbody tr th {\n",
       "        vertical-align: top;\n",
       "    }\n",
       "\n",
       "    .dataframe thead th {\n",
       "        text-align: right;\n",
       "    }\n",
       "</style>\n",
       "<table border=\"1\" class=\"dataframe\">\n",
       "  <thead>\n",
       "    <tr style=\"text-align: right;\">\n",
       "      <th></th>\n",
       "      <th>fdate</th>\n",
       "      <th>cusip</th>\n",
       "      <th>mgrno</th>\n",
       "      <th>type</th>\n",
       "      <th>shares</th>\n",
       "      <th>sole</th>\n",
       "      <th>shared</th>\n",
       "      <th>no</th>\n",
       "    </tr>\n",
       "  </thead>\n",
       "  <tbody>\n",
       "    <tr>\n",
       "      <th>73558121</th>\n",
       "      <td>Sat Dec 30 19:00:00 EST 2017</td>\n",
       "      <td>G5876H10</td>\n",
       "      <td>95105</td>\n",
       "      <td>5</td>\n",
       "      <td>179600</td>\n",
       "      <td>179600.0</td>\n",
       "      <td>0.0</td>\n",
       "      <td>0.0</td>\n",
       "    </tr>\n",
       "    <tr>\n",
       "      <th>73558122</th>\n",
       "      <td>Sat Dec 30 19:00:00 EST 2017</td>\n",
       "      <td>G8127610</td>\n",
       "      <td>95105</td>\n",
       "      <td>5</td>\n",
       "      <td>4700</td>\n",
       "      <td>4700.0</td>\n",
       "      <td>0.0</td>\n",
       "      <td>0.0</td>\n",
       "    </tr>\n",
       "    <tr>\n",
       "      <th>73558123</th>\n",
       "      <td>Sat Dec 30 19:00:00 EST 2017</td>\n",
       "      <td>G9319H10</td>\n",
       "      <td>95105</td>\n",
       "      <td>5</td>\n",
       "      <td>39239</td>\n",
       "      <td>39239.0</td>\n",
       "      <td>0.0</td>\n",
       "      <td>0.0</td>\n",
       "    </tr>\n",
       "    <tr>\n",
       "      <th>73558124</th>\n",
       "      <td>Sat Dec 30 19:00:00 EST 2017</td>\n",
       "      <td>H8817H10</td>\n",
       "      <td>95105</td>\n",
       "      <td>5</td>\n",
       "      <td>322280</td>\n",
       "      <td>322280.0</td>\n",
       "      <td>0.0</td>\n",
       "      <td>0.0</td>\n",
       "    </tr>\n",
       "    <tr>\n",
       "      <th>73558125</th>\n",
       "      <td>Sat Dec 30 19:00:00 EST 2017</td>\n",
       "      <td>V7780T10</td>\n",
       "      <td>95105</td>\n",
       "      <td>5</td>\n",
       "      <td>2000</td>\n",
       "      <td>2000.0</td>\n",
       "      <td>0.0</td>\n",
       "      <td>0.0</td>\n",
       "    </tr>\n",
       "  </tbody>\n",
       "</table>\n",
       "</div>"
      ],
      "text/plain": [
       "                                 fdate     cusip  mgrno  type  shares  \\\n",
       "73558121  Sat Dec 30 19:00:00 EST 2017  G5876H10  95105     5  179600   \n",
       "73558122  Sat Dec 30 19:00:00 EST 2017  G8127610  95105     5    4700   \n",
       "73558123  Sat Dec 30 19:00:00 EST 2017  G9319H10  95105     5   39239   \n",
       "73558124  Sat Dec 30 19:00:00 EST 2017  H8817H10  95105     5  322280   \n",
       "73558125  Sat Dec 30 19:00:00 EST 2017  V7780T10  95105     5    2000   \n",
       "\n",
       "              sole  shared   no  \n",
       "73558121  179600.0     0.0  0.0  \n",
       "73558122    4700.0     0.0  0.0  \n",
       "73558123   39239.0     0.0  0.0  \n",
       "73558124  322280.0     0.0  0.0  \n",
       "73558125    2000.0     0.0  0.0  "
      ]
     },
     "execution_count": 34,
     "metadata": {},
     "output_type": "execute_result"
    }
   ],
   "source": [
    "s34type3.tail()"
   ]
  },
  {
   "cell_type": "code",
   "execution_count": 29,
   "metadata": {},
   "outputs": [
    {
     "data": {
      "text/plain": [
       "(167, 5)"
      ]
     },
     "execution_count": 29,
     "metadata": {},
     "output_type": "execute_result"
    }
   ],
   "source": [
    "tier_one.shape"
   ]
  },
  {
   "cell_type": "code",
   "execution_count": null,
   "metadata": {},
   "outputs": [],
   "source": []
  },
  {
   "cell_type": "code",
   "execution_count": null,
   "metadata": {},
   "outputs": [],
   "source": []
  },
  {
   "cell_type": "code",
   "execution_count": null,
   "metadata": {},
   "outputs": [],
   "source": []
  },
  {
   "cell_type": "code",
   "execution_count": null,
   "metadata": {},
   "outputs": [],
   "source": []
  },
  {
   "cell_type": "code",
   "execution_count": null,
   "metadata": {},
   "outputs": [],
   "source": []
  },
  {
   "cell_type": "code",
   "execution_count": null,
   "metadata": {},
   "outputs": [],
   "source": []
  },
  {
   "cell_type": "code",
   "execution_count": null,
   "metadata": {},
   "outputs": [],
   "source": []
  },
  {
   "cell_type": "code",
   "execution_count": null,
   "metadata": {},
   "outputs": [],
   "source": []
  },
  {
   "cell_type": "code",
   "execution_count": null,
   "metadata": {},
   "outputs": [],
   "source": []
  },
  {
   "cell_type": "code",
   "execution_count": null,
   "metadata": {},
   "outputs": [],
   "source": []
  },
  {
   "cell_type": "code",
   "execution_count": null,
   "metadata": {},
   "outputs": [],
   "source": []
  },
  {
   "cell_type": "code",
   "execution_count": null,
   "metadata": {},
   "outputs": [],
   "source": []
  },
  {
   "cell_type": "code",
   "execution_count": null,
   "metadata": {},
   "outputs": [],
   "source": []
  },
  {
   "cell_type": "code",
   "execution_count": null,
   "metadata": {},
   "outputs": [],
   "source": []
  },
  {
   "cell_type": "code",
   "execution_count": null,
   "metadata": {},
   "outputs": [],
   "source": []
  },
  {
   "cell_type": "code",
   "execution_count": null,
   "metadata": {},
   "outputs": [],
   "source": []
  },
  {
   "cell_type": "code",
   "execution_count": null,
   "metadata": {},
   "outputs": [],
   "source": []
  },
  {
   "cell_type": "code",
   "execution_count": null,
   "metadata": {},
   "outputs": [],
   "source": []
  },
  {
   "cell_type": "code",
   "execution_count": null,
   "metadata": {},
   "outputs": [],
   "source": []
  },
  {
   "cell_type": "code",
   "execution_count": null,
   "metadata": {},
   "outputs": [],
   "source": []
  }
 ],
 "metadata": {
  "kernelspec": {
   "display_name": "Python 3",
   "language": "python",
   "name": "python3"
  },
  "language_info": {
   "codemirror_mode": {
    "name": "ipython",
    "version": 3
   },
   "file_extension": ".py",
   "mimetype": "text/x-python",
   "name": "python",
   "nbconvert_exporter": "python",
   "pygments_lexer": "ipython3",
   "version": "3.6.5"
  }
 },
 "nbformat": 4,
 "nbformat_minor": 2
}
